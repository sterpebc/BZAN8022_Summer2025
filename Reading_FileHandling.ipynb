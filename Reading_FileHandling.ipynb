{
 "cells": [
  {
   "cell_type": "markdown",
   "metadata": {},
   "source": [
    "# File Handling\n",
    "\n",
    "This reading shows you how to read data from a file so you can work with it in Python. It also shows how you can write data out to a file. This file is a Jupyter notebook, which means it's interactive; if you download the file `attendance.txt` and put it in the same folder as this Jupyter notebook, you can run the code samples. You should run all of them to see how they work."
   ]
  },
  {
   "cell_type": "markdown",
   "metadata": {},
   "source": [
    "## What's Actually Inside a File\n",
    "\n",
    "If you haven't downloaded `attendance.txt` from Canvas yet, do that now and put the file in the same folder where you put this Jupyter notebook.\n",
    "Then open `attendance.txt` in Visual Studio code. Here are the contents of the file:\n",
    "\n",
    "```\n",
    "Week,Day,Absent\n",
    "1,Mon,2\n",
    "1,Wed,0\n",
    "1,Fri,3\n",
    "2,Mon,1\n",
    "2,Wed,2\n",
    "2,Fri,1\n",
    "3,Mon,4\n",
    "3,Wed,0\n",
    "3,Fri,1\n",
    "4,Mon,3\n",
    "4,Wed,2\n",
    "4,Fri,2\n",
    "```\n",
    "\n",
    "When you see the file on screen, it appears to consist of 13 lines of text. So how does the computer know where one line ends and the next line starts?\n",
    "\n",
    "Let's look at the first two lines of the file one character at a time. We'll number each character (starting with 0):\n",
    "\n",
    "```\n",
    "Character Position    0  1  2  3  4  5  6  7  8  9  10 11 12 13 14 15 16 17 18 19 20 21 22 23\n",
    "Character             W  e  e  k  ,  D  a  y  ,  A  b  s  e  n  t  ⏎  1  ,  M  o  n  ,  2  ⏎\n",
    "```\n",
    "\n",
    "The characters up to position 14 are probably not surprising -- they correspond exactly to what we see on screen. But what's that ⏎ character in position 15? That is a character commonly referred to as `newline`; it's one of the characters in the alphabet of the computer. The `newline` character is how the computer separates one line from the next. If you look above where the 13 lines are displayed, you can see that the `1` in `1,Mon,2` isn't immediately to the right of the `t` in absent -- it's on the next line. That's because right after the `t` in `Absent` there is a `newline` character which means, \"Start a new line now.\"\n",
    "\n",
    "Whenever a program that is displaying text encounters a `newline` character, it knows to start a new line. The program doesn't \"print\" the newline -- you don't see any ⏎ characters on the screen. Instead, the program \"obeys\" the `newline` and starts a new line. We see the effect of the `newline` -- text skips down to the next line -- but we don't see the `newline` itself. Gravity is like this -- we don't see gravity, we just see the effect it has on other things. Same for the wind.\n",
    "\n",
    "So in a file of text on your computer, the file isn't really organized into lines. It's just a stream of characters. What causes all those characters not to display on a single line is that _some_ of the characters are `newlines`.\n",
    "\n",
    "How is this relevant to reading from a file? We usually want to read data from a file one line at at a time. If we ask Python to \"read a line,\" Python accomplishes that by reading everything up to the next `newline` it encounters. Python then returns the characters it read as a string."
   ]
  },
  {
   "cell_type": "markdown",
   "metadata": {},
   "source": [
    "## Reading from a File"
   ]
  },
  {
   "cell_type": "markdown",
   "metadata": {},
   "source": [
    "Tell Python which file you want to read by _opening_ it. When you _open_ a file, you have not read any of its data. Rather, you have told Python, \"I intend to read from this file, so make sure it's out there and get ready to read from it.\""
   ]
  },
  {
   "cell_type": "code",
   "execution_count": null,
   "metadata": {},
   "outputs": [],
   "source": [
    "myfile = open('attendance.txt', 'r')  # Substitute the actual name of the file you want to read"
   ]
  },
  {
   "cell_type": "markdown",
   "metadata": {},
   "source": [
    "The first argument, a string, is the name of the file. The second argument, also a string, tells Python what we intend to do with the file. We want to read from the file, so the second argument to `open` must be the string `'r'`, meaning \"read.\" To read from a file is the default, so you can actually omit the second argument if you want to read from a file."
   ]
  },
  {
   "cell_type": "markdown",
   "metadata": {},
   "source": [
    "Python looks for your file in the same folder where your code is. If Python can't find the file, it raises an exception. Look at the output beneath the following code cell. It's trying to tell us where the error occurred, but that happened in some code that is part of Python itself. The useful part of the error message is at the bottom: `FileNotFoundError: [Errno 2] No such file or directory: 'ajkshfajhfadfakhfafadsfasdf.data'`\n",
    "\n",
    "That's a little jargon-y, but it does state the problem -- Python can't find the file."
   ]
  },
  {
   "cell_type": "code",
   "execution_count": 1,
   "metadata": {},
   "outputs": [
    {
     "ename": "FileNotFoundError",
     "evalue": "[Errno 2] No such file or directory: 'ajkshfajhfadfakhfafadsfasdf.data'",
     "output_type": "error",
     "traceback": [
      "\u001b[0;31m---------------------------------------------------------------------------\u001b[0m",
      "\u001b[0;31mFileNotFoundError\u001b[0m                         Traceback (most recent call last)",
      "Cell \u001b[0;32mIn[1], line 1\u001b[0m\n\u001b[0;32m----> 1\u001b[0m no_such_file \u001b[38;5;241m=\u001b[39m \u001b[38;5;28;43mopen\u001b[39;49m\u001b[43m(\u001b[49m\u001b[38;5;124;43m'\u001b[39;49m\u001b[38;5;124;43majkshfajhfadfakhfafadsfasdf.data\u001b[39;49m\u001b[38;5;124;43m'\u001b[39;49m\u001b[43m)\u001b[49m   \u001b[38;5;66;03m# This should generate an error unless you have a file by this name!\u001b[39;00m\n",
      "File \u001b[0;32m~/miniconda3/lib/python3.11/site-packages/IPython/core/interactiveshell.py:324\u001b[0m, in \u001b[0;36m_modified_open\u001b[0;34m(file, *args, **kwargs)\u001b[0m\n\u001b[1;32m    317\u001b[0m \u001b[38;5;28;01mif\u001b[39;00m file \u001b[38;5;129;01min\u001b[39;00m {\u001b[38;5;241m0\u001b[39m, \u001b[38;5;241m1\u001b[39m, \u001b[38;5;241m2\u001b[39m}:\n\u001b[1;32m    318\u001b[0m     \u001b[38;5;28;01mraise\u001b[39;00m \u001b[38;5;167;01mValueError\u001b[39;00m(\n\u001b[1;32m    319\u001b[0m         \u001b[38;5;124mf\u001b[39m\u001b[38;5;124m\"\u001b[39m\u001b[38;5;124mIPython won\u001b[39m\u001b[38;5;124m'\u001b[39m\u001b[38;5;124mt let you open fd=\u001b[39m\u001b[38;5;132;01m{\u001b[39;00mfile\u001b[38;5;132;01m}\u001b[39;00m\u001b[38;5;124m by default \u001b[39m\u001b[38;5;124m\"\u001b[39m\n\u001b[1;32m    320\u001b[0m         \u001b[38;5;124m\"\u001b[39m\u001b[38;5;124mas it is likely to crash IPython. If you know what you are doing, \u001b[39m\u001b[38;5;124m\"\u001b[39m\n\u001b[1;32m    321\u001b[0m         \u001b[38;5;124m\"\u001b[39m\u001b[38;5;124myou can use builtins\u001b[39m\u001b[38;5;124m'\u001b[39m\u001b[38;5;124m open.\u001b[39m\u001b[38;5;124m\"\u001b[39m\n\u001b[1;32m    322\u001b[0m     )\n\u001b[0;32m--> 324\u001b[0m \u001b[38;5;28;01mreturn\u001b[39;00m \u001b[43mio_open\u001b[49m\u001b[43m(\u001b[49m\u001b[43mfile\u001b[49m\u001b[43m,\u001b[49m\u001b[43m \u001b[49m\u001b[38;5;241;43m*\u001b[39;49m\u001b[43margs\u001b[49m\u001b[43m,\u001b[49m\u001b[43m \u001b[49m\u001b[38;5;241;43m*\u001b[39;49m\u001b[38;5;241;43m*\u001b[39;49m\u001b[43mkwargs\u001b[49m\u001b[43m)\u001b[49m\n",
      "\u001b[0;31mFileNotFoundError\u001b[0m: [Errno 2] No such file or directory: 'ajkshfajhfadfakhfafadsfasdf.data'"
     ]
    }
   ],
   "source": [
    "no_such_file = open('ajkshfajhfadfakhfafadsfasdf.data')"
   ]
  },
  {
   "cell_type": "markdown",
   "metadata": {},
   "source": [
    "In the first code cell, we used a variable called `myfile` to save whatever the `open` function returned to us. So what _does_ `open` return? It's a _file object_, a special object that Python uses to keep track of a file that it is reading from (or writing to). We don't need to know the specifics of the _file object_; think of it as a \"remote control\" that we can use to manipulate the file. Python uses the _file object_ to keep track of things like the name of the file and where the file is located on the computer.\n",
    "\n",
    "Python also uses the _file object_ to keep track of its place in the file. In the illustration above, recall that we gave each character in the file a position number. If we asked Python to read the first line of `attendance.txt`, Python would read up to the `newline` character in position 15. Python would then use the _file object_ to make a note for itself that, if we ask it to read anything else from the file, the _next_ position where it should start reading is position 16 (the `1` in `1,Mon,2`)."
   ]
  },
  {
   "cell_type": "markdown",
   "metadata": {},
   "source": [
    "To read a single line, call the `readline` method on the file object."
   ]
  },
  {
   "cell_type": "code",
   "execution_count": null,
   "metadata": {},
   "outputs": [],
   "source": [
    "next_line = myfile.readline()\n",
    "print(next_line)"
   ]
  },
  {
   "cell_type": "markdown",
   "metadata": {},
   "source": [
    "When Python \"reads a line,\" it keeps reading characters until it encounters a `newline` character. Python then returns the characters it read as a _string_. And here's the surprising part: that string _includes_ the `newline` character.\n",
    "\n",
    "In the code cell above, the first time we execute `next_line = myfile.readline()`, Python will read the first line of the file. This means Python reads up to the first `newline` character it finds. What string will Python return? It returns the string `Week,Day,Absent⏎` -- notice the `newline` after the `t` in `Absent`. The `newline` that made Python stop reading is _included_ in the string that Python returns!\n",
    "\n",
    "We don't usually want that `newline` character in our data, but there's an easy way to get rid of it. That will be explained below."
   ]
  },
  {
   "cell_type": "markdown",
   "metadata": {},
   "source": [
    "Although a _file object_ is not a Python list, you _can_ use it in a `for` loop. To read all the lines in a file, use a `for` loop like this:"
   ]
  },
  {
   "cell_type": "code",
   "execution_count": null,
   "metadata": {},
   "outputs": [],
   "source": [
    "for line in myfile:\n",
    "    print(line)"
   ]
  },
  {
   "cell_type": "markdown",
   "metadata": {},
   "source": [
    "When you have read all the lines, you are at the end of the file, so you can't read any more lines..."
   ]
  },
  {
   "cell_type": "code",
   "execution_count": null,
   "metadata": {},
   "outputs": [],
   "source": [
    "for line in myfile:\n",
    "    print(line)   # You won't see anything because you are at the end of the file"
   ]
  },
  {
   "cell_type": "markdown",
   "metadata": {},
   "source": [
    "You can go back to the beginning of the file by calling the `seek` method..."
   ]
  },
  {
   "cell_type": "code",
   "execution_count": null,
   "metadata": {},
   "outputs": [],
   "source": [
    "myfile.seek(0)"
   ]
  },
  {
   "cell_type": "markdown",
   "metadata": {},
   "source": [
    "Now you can read the lines all over again..."
   ]
  },
  {
   "cell_type": "code",
   "execution_count": null,
   "metadata": {},
   "outputs": [],
   "source": [
    "for line in myfile:\n",
    "    print(line)"
   ]
  },
  {
   "cell_type": "markdown",
   "metadata": {},
   "source": [
    "If you ran the code above, you might have noticed the extra blank line after every line. This is because every line in the file ends with a `newline` character. When you read a line, Python returns to you the `newline`, too. Then, when you call `print`, the `print` function adds its own newline at the end of whatever it prints. When we print line 1, we get this...\n",
    "\n",
    "```\n",
    "Week,Day,Absent⏎⏎\n",
    "```\n",
    "\n",
    "...and that's where the extra blank line is coming from."
   ]
  },
  {
   "cell_type": "markdown",
   "metadata": {},
   "source": [
    "If we don't want that `newline` character in our data, we can strip it off by calling the `rstrip` string method. Here's an  example that you should run:"
   ]
  },
  {
   "cell_type": "code",
   "execution_count": 3,
   "metadata": {},
   "outputs": [
    {
     "name": "stdout",
     "output_type": "stream",
     "text": [
      "After rstrip, here is some_string: abcde\n"
     ]
    }
   ],
   "source": [
    "some_string = 'abcdezzz'\n",
    "some_string = some_string.rstrip('z')\n",
    "print(f'After rstrip, here is some_string: {some_string}')"
   ]
  },
  {
   "cell_type": "markdown",
   "metadata": {},
   "source": [
    "The `rstrip` method looks at is argument, in this case, the string `'z'`, and then it looks at the string variable before the dot, in this case, `some_string`. If `rstrip` finds any `z` characters _at the right-hand end of_ `some_string`, it will get rid of them. What's the _right-hand end_ of a string? Well, we read Python strings left to right, so the _right-hand end_ is just ... the end.\n",
    "\n",
    "`rstrip` can't modify `some_string` -- Python strings are immutable -- so it returns a new string minus any `z` characters that might have been sitting at the end of the string. If we want to strip away any `newline` characters from the end of a string, we need to make `newline` be the argument to `rstrip`. This raises the question: what do we type in Python when we mean \"the `newline` character?\"\n",
    "\n",
    "The way to represent `newline` in Python is with the 2-character string `'\\n'`. (That's a backslash; it's `\\`, not `/`.) We type the 2-character string `'\\n'`, and Python knows that this means the `newline` character.\n",
    "\n",
    "Here's how we can use `rstrip` to strip the `newline` from the end of a string that we read from a file."
   ]
  },
  {
   "cell_type": "code",
   "execution_count": null,
   "metadata": {},
   "outputs": [],
   "source": [
    "myfile.seek(0)                          # Rewind back to beginning of file so we have something to read\n",
    "first_line = myfile.readline()          # Read one line\n",
    "first_line = first_line.rstrip('\\n')    # Strip newline from the \"right\" end of the string\n",
    "second_line = myfile.readline()         # Read another line\n",
    "second_line = second_line.rstrip('\\n')  # Strip newline from the \"right\" end of the string\n",
    "print(first_line)\n",
    "print(second_line)                      # Notice no extra blank line in the printed output"
   ]
  },
  {
   "cell_type": "markdown",
   "metadata": {},
   "source": [
    "When we are finished with the file we have opened, we should close it to tell Python, \"I'm done reading from this file.\""
   ]
  },
  {
   "cell_type": "code",
   "execution_count": null,
   "metadata": {},
   "outputs": [],
   "source": [
    "myfile.close()"
   ]
  },
  {
   "cell_type": "markdown",
   "metadata": {},
   "source": [
    "Once the file is closed, we cannot read from it any more. The following causes an error:"
   ]
  },
  {
   "cell_type": "code",
   "execution_count": null,
   "metadata": {},
   "outputs": [],
   "source": [
    "a_line = myfile.readline()"
   ]
  },
  {
   "cell_type": "markdown",
   "metadata": {},
   "source": [
    "To read from a file again after you have closed it, open the file again."
   ]
  },
  {
   "cell_type": "markdown",
   "metadata": {},
   "source": [
    "## Writing to a File"
   ]
  },
  {
   "cell_type": "markdown",
   "metadata": {},
   "source": [
    "To write some text out to a file, we begin by calling the `open` function, this time with `'w'` as the second argument, meaning \"write.\" If the file doesn't already exist, Python will create it. If the file _does_ exist, **BE CAREFUL!!** When the file already exists, **_Python wipes out the contents of the file_**.\n",
    "\n",
    "Here's some code that creates a file named `data.txt` and writes two lines to it."
   ]
  },
  {
   "cell_type": "code",
   "execution_count": null,
   "metadata": {},
   "outputs": [],
   "source": [
    "datafile = open('data.txt', 'w')\n",
    "\n",
    "datafile.write('This is the first line.\\n')\n",
    "datafile.write('This is the second line.\\n')\n",
    "\n",
    "datafile.close()"
   ]
  },
  {
   "cell_type": "markdown",
   "metadata": {},
   "source": [
    "To write something out to the file, call the `write` method on the _file object_. The argument to `write` is the string you want to put in the file. **_You must supply your own `newline` character if you want your text to consist of multiple lines._** Notice in the code above that each string we write out ends with `'\\n'` which is Python's representation for `newline`. If we didn't write out those `'\\n'` characters, the file would contain `This is the first line.This is the second line.`."
   ]
  },
  {
   "cell_type": "markdown",
   "metadata": {},
   "source": [
    "When you have finished writing to the file, tell Python you're done with the file by calling the `close` method on the _file object_."
   ]
  }
 ],
 "metadata": {
  "kernelspec": {
   "display_name": "base",
   "language": "python",
   "name": "python3"
  },
  "language_info": {
   "codemirror_mode": {
    "name": "ipython",
    "version": 3
   },
   "file_extension": ".py",
   "mimetype": "text/x-python",
   "name": "python",
   "nbconvert_exporter": "python",
   "pygments_lexer": "ipython3",
   "version": "3.11.7"
  }
 },
 "nbformat": 4,
 "nbformat_minor": 2
}
